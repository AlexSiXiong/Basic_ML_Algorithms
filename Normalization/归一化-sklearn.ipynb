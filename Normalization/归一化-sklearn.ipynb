{
 "cells": [
  {
   "cell_type": "code",
   "execution_count": 2,
   "metadata": {},
   "outputs": [],
   "source": [
    "import numpy as np\n",
    "from sklearn import datasets"
   ]
  },
  {
   "cell_type": "code",
   "execution_count": 3,
   "metadata": {},
   "outputs": [],
   "source": [
    "iris = datasets.load_iris()"
   ]
  },
  {
   "cell_type": "code",
   "execution_count": 4,
   "metadata": {},
   "outputs": [],
   "source": [
    "x = iris.data\n",
    "y = iris.target"
   ]
  },
  {
   "cell_type": "code",
   "execution_count": 5,
   "metadata": {},
   "outputs": [
    {
     "data": {
      "text/plain": [
       "array([[5.1, 3.5, 1.4, 0.2],\n",
       "       [4.9, 3. , 1.4, 0.2],\n",
       "       [4.7, 3.2, 1.3, 0.2],\n",
       "       [4.6, 3.1, 1.5, 0.2],\n",
       "       [5. , 3.6, 1.4, 0.2],\n",
       "       [5.4, 3.9, 1.7, 0.4],\n",
       "       [4.6, 3.4, 1.4, 0.3],\n",
       "       [5. , 3.4, 1.5, 0.2],\n",
       "       [4.4, 2.9, 1.4, 0.2],\n",
       "       [4.9, 3.1, 1.5, 0.1]])"
      ]
     },
     "execution_count": 5,
     "metadata": {},
     "output_type": "execute_result"
    }
   ],
   "source": [
    "x[:10,]"
   ]
  },
  {
   "cell_type": "code",
   "execution_count": 6,
   "metadata": {},
   "outputs": [],
   "source": [
    "from sklearn.model_selection import train_test_split\n",
    "\n",
    "x_train, x_test, y_train, y_test = train_test_split(x, y, test_size = 0.2, random_state = 10)"
   ]
  },
  {
   "cell_type": "markdown",
   "metadata": {},
   "source": [
    "# StandardScaler"
   ]
  },
  {
   "cell_type": "code",
   "execution_count": 7,
   "metadata": {},
   "outputs": [],
   "source": [
    "from sklearn.preprocessing import StandardScaler"
   ]
  },
  {
   "cell_type": "code",
   "execution_count": 8,
   "metadata": {},
   "outputs": [],
   "source": [
    "standardScaler = StandardScaler()"
   ]
  },
  {
   "cell_type": "code",
   "execution_count": 9,
   "metadata": {},
   "outputs": [
    {
     "data": {
      "text/plain": [
       "StandardScaler(copy=True, with_mean=True, with_std=True)"
      ]
     },
     "execution_count": 9,
     "metadata": {},
     "output_type": "execute_result"
    }
   ],
   "source": [
    "standardScaler.fit(x_train)"
   ]
  },
  {
   "cell_type": "code",
   "execution_count": 10,
   "metadata": {},
   "outputs": [
    {
     "data": {
      "text/plain": [
       "array([5.87      , 3.0725    , 3.78083333, 1.21833333])"
      ]
     },
     "execution_count": 10,
     "metadata": {},
     "output_type": "execute_result"
    }
   ],
   "source": [
    "standardScaler.mean_"
   ]
  },
  {
   "cell_type": "code",
   "execution_count": 11,
   "metadata": {},
   "outputs": [
    {
     "data": {
      "text/plain": [
       "array([0.83801352, 0.43242774, 1.77840265, 0.77190061])"
      ]
     },
     "execution_count": 11,
     "metadata": {},
     "output_type": "execute_result"
    }
   ],
   "source": [
    "standardScaler.scale_"
   ]
  },
  {
   "cell_type": "code",
   "execution_count": 12,
   "metadata": {},
   "outputs": [],
   "source": [
    "x_train = standardScaler.transform(x_train)"
   ]
  },
  {
   "cell_type": "code",
   "execution_count": 13,
   "metadata": {},
   "outputs": [],
   "source": [
    "x_test_standard = standardScaler.transform(x_test)"
   ]
  },
  {
   "cell_type": "code",
   "execution_count": 19,
   "metadata": {},
   "outputs": [
    {
     "data": {
      "text/plain": [
       "array([[ 0.51311821, -1.78642564,  0.34815888,  0.10579946],\n",
       "       [ 0.63244803, -0.8614156 ,  0.854231  ,  0.8831016 ],\n",
       "       [-0.56085014,  1.4511095 , -1.28251796, -1.31925447],\n",
       "       [ 0.27445858, -0.16765807,  0.46061935,  0.23534982],\n",
       "       [-1.0381694 ,  0.52609946, -1.3387482 , -1.31925447],\n",
       "       [-1.0381694 , -2.48018317, -0.15791325, -0.28285161],\n",
       "       [ 0.51311821, -1.32392062,  0.62931005,  0.36490017],\n",
       "       [-0.08353087, -0.8614156 ,  0.17946817, -0.28285161],\n",
       "       [-0.91883959,  0.75735197, -1.28251796, -1.31925447],\n",
       "       [-0.20286069, -0.63016309,  0.40438911,  0.10579946],\n",
       "       [-0.3221905 , -0.16765807,  0.40438911,  0.36490017],\n",
       "       [-0.08353087, -0.8614156 ,  0.74177053,  0.8831016 ],\n",
       "       [-0.44152032, -1.78642564,  0.12323793,  0.10579946],\n",
       "       [-1.15749922, -0.16765807, -1.3387482 , -1.31925447],\n",
       "       [-0.91883959,  1.68236201, -1.28251796, -1.18970411],\n",
       "       [ 1.10976729, -0.16765807,  0.96669147,  1.14220232],\n",
       "       [ 0.15512876,  0.75735197,  0.40438911,  0.49445053],\n",
       "       [-1.7541483 , -0.16765807, -1.39497843, -1.31925447],\n",
       "       [-0.91883959,  1.4511095 , -1.28251796, -1.06015376],\n",
       "       [-1.0381694 ,  0.29484695, -1.45120867, -1.31925447],\n",
       "       [ 1.46775674, -0.16765807,  1.19161241,  1.14220232],\n",
       "       [ 0.63244803, -0.63016309,  1.0229217 ,  1.27175267],\n",
       "       [ 0.39378839, -0.63016309,  0.57307982,  0.75355124],\n",
       "       [-1.27682904,  0.75735197, -1.05759702, -1.31925447],\n",
       "       [ 0.03579894, -0.16765807,  0.2356984 ,  0.36490017],\n",
       "       [-1.39615885,  0.29484695, -1.39497843, -1.31925447],\n",
       "       [-0.20286069, -0.16765807,  0.2356984 , -0.0237509 ],\n",
       "       [-0.44152032, -1.09266811,  0.34815888, -0.0237509 ],\n",
       "       [ 1.10976729, -0.63016309,  0.57307982,  0.23534982],\n",
       "       [ 2.18373564,  1.68236201,  1.6414543 ,  1.27175267]])"
      ]
     },
     "execution_count": 19,
     "metadata": {},
     "output_type": "execute_result"
    }
   ],
   "source": [
    "x_test_standard"
   ]
  },
  {
   "cell_type": "markdown",
   "metadata": {},
   "source": [
    "# 测试一下"
   ]
  },
  {
   "cell_type": "code",
   "execution_count": 14,
   "metadata": {},
   "outputs": [],
   "source": [
    "from sklearn.neighbors import KNeighborsClassifier"
   ]
  },
  {
   "cell_type": "code",
   "execution_count": 15,
   "metadata": {},
   "outputs": [],
   "source": [
    "knn = KNeighborsClassifier(n_neighbors= 3)"
   ]
  },
  {
   "cell_type": "code",
   "execution_count": 16,
   "metadata": {},
   "outputs": [
    {
     "data": {
      "text/plain": [
       "KNeighborsClassifier(algorithm='auto', leaf_size=30, metric='minkowski',\n",
       "                     metric_params=None, n_jobs=None, n_neighbors=3, p=2,\n",
       "                     weights='uniform')"
      ]
     },
     "execution_count": 16,
     "metadata": {},
     "output_type": "execute_result"
    }
   ],
   "source": [
    "knn.fit(x_train, y_train)"
   ]
  },
  {
   "cell_type": "markdown",
   "metadata": {},
   "source": [
    "这个地方的数据必须归一化后才能传入"
   ]
  },
  {
   "cell_type": "code",
   "execution_count": 17,
   "metadata": {},
   "outputs": [
    {
     "data": {
      "text/plain": [
       "0.9666666666666667"
      ]
     },
     "execution_count": 17,
     "metadata": {},
     "output_type": "execute_result"
    }
   ],
   "source": [
    "knn.score(x_test_standard, y_test)"
   ]
  },
  {
   "cell_type": "code",
   "execution_count": null,
   "metadata": {},
   "outputs": [],
   "source": []
  }
 ],
 "metadata": {
  "kernelspec": {
   "display_name": "Python 3",
   "language": "python",
   "name": "python3"
  },
  "language_info": {
   "codemirror_mode": {
    "name": "ipython",
    "version": 3
   },
   "file_extension": ".py",
   "mimetype": "text/x-python",
   "name": "python",
   "nbconvert_exporter": "python",
   "pygments_lexer": "ipython3",
   "version": "3.7.3"
  }
 },
 "nbformat": 4,
 "nbformat_minor": 2
}
