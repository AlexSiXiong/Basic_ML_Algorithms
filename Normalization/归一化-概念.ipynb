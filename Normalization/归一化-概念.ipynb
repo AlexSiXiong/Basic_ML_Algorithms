{
 "cells": [
  {
   "cell_type": "markdown",
   "metadata": {},
   "source": [
    "# 1.Normalization\n",
    "# 2.Standarization"
   ]
  },
  {
   "cell_type": "code",
   "execution_count": null,
   "metadata": {},
   "outputs": [],
   "source": [
    "import numpy as np\n",
    "import matplotlib.pyplot as plt"
   ]
  },
  {
   "cell_type": "code",
   "execution_count": 2,
   "metadata": {},
   "outputs": [],
   "source": [
    "x = np.random.randint(0, 100, size=100)"
   ]
  },
  {
   "cell_type": "code",
   "execution_count": 3,
   "metadata": {},
   "outputs": [
    {
     "data": {
      "text/plain": [
       "array([72, 86, 47, 35, 88, 27,  4, 62, 26, 22,  1, 50, 53, 22, 97, 47, 64,\n",
       "       34, 30, 34, 61, 83, 93,  1, 53, 50, 88, 67,  2, 57, 91, 69, 42, 88,\n",
       "       21, 95, 60, 69, 73, 60, 25, 40, 33, 58, 36, 92, 94, 65, 17, 76, 75,\n",
       "        3, 23,  4, 18,  5, 58, 29, 57, 80, 60, 73, 80, 81, 95, 18, 63, 99,\n",
       "       56, 99, 30, 31, 99, 89, 77, 11, 51, 40, 38, 54,  5, 67, 68, 61, 28,\n",
       "        9, 79, 73, 47, 46, 51, 79, 53, 54, 19, 21, 97, 55, 48, 33])"
      ]
     },
     "execution_count": 3,
     "metadata": {},
     "output_type": "execute_result"
    }
   ],
   "source": [
    "x"
   ]
  },
  {
   "cell_type": "code",
   "execution_count": 4,
   "metadata": {},
   "outputs": [
    {
     "data": {
      "text/plain": [
       "array([0.7244898 , 0.86734694, 0.46938776, 0.34693878, 0.8877551 ,\n",
       "       0.26530612, 0.03061224, 0.62244898, 0.25510204, 0.21428571,\n",
       "       0.        , 0.5       , 0.53061224, 0.21428571, 0.97959184,\n",
       "       0.46938776, 0.64285714, 0.33673469, 0.29591837, 0.33673469,\n",
       "       0.6122449 , 0.83673469, 0.93877551, 0.        , 0.53061224,\n",
       "       0.5       , 0.8877551 , 0.67346939, 0.01020408, 0.57142857,\n",
       "       0.91836735, 0.69387755, 0.41836735, 0.8877551 , 0.20408163,\n",
       "       0.95918367, 0.60204082, 0.69387755, 0.73469388, 0.60204082,\n",
       "       0.24489796, 0.39795918, 0.32653061, 0.58163265, 0.35714286,\n",
       "       0.92857143, 0.94897959, 0.65306122, 0.16326531, 0.76530612,\n",
       "       0.75510204, 0.02040816, 0.2244898 , 0.03061224, 0.17346939,\n",
       "       0.04081633, 0.58163265, 0.28571429, 0.57142857, 0.80612245,\n",
       "       0.60204082, 0.73469388, 0.80612245, 0.81632653, 0.95918367,\n",
       "       0.17346939, 0.63265306, 1.        , 0.56122449, 1.        ,\n",
       "       0.29591837, 0.30612245, 1.        , 0.89795918, 0.7755102 ,\n",
       "       0.10204082, 0.51020408, 0.39795918, 0.37755102, 0.54081633,\n",
       "       0.04081633, 0.67346939, 0.68367347, 0.6122449 , 0.2755102 ,\n",
       "       0.08163265, 0.79591837, 0.73469388, 0.46938776, 0.45918367,\n",
       "       0.51020408, 0.79591837, 0.53061224, 0.54081633, 0.18367347,\n",
       "       0.20408163, 0.97959184, 0.55102041, 0.47959184, 0.32653061])"
      ]
     },
     "execution_count": 4,
     "metadata": {},
     "output_type": "execute_result"
    }
   ],
   "source": [
    "(x - np.min(x)) / (np.max(x) - np.min(x))"
   ]
  },
  {
   "cell_type": "code",
   "execution_count": 5,
   "metadata": {},
   "outputs": [],
   "source": [
    "X = np.random.randint(0, 50, (50, 2))"
   ]
  },
  {
   "cell_type": "markdown",
   "metadata": {},
   "source": [
    "# 归一化要使所有数据在(0,1), 所以要把数据类型变成浮点数"
   ]
  },
  {
   "cell_type": "code",
   "execution_count": 7,
   "metadata": {},
   "outputs": [],
   "source": [
    "X = np.array(X, dtype=float)"
   ]
  },
  {
   "cell_type": "code",
   "execution_count": 8,
   "metadata": {
    "scrolled": true
   },
   "outputs": [
    {
     "data": {
      "text/plain": [
       "array([[42., 16.],\n",
       "       [48., 45.],\n",
       "       [48.,  8.],\n",
       "       [16., 43.],\n",
       "       [44., 33.],\n",
       "       [32., 18.],\n",
       "       [47., 16.],\n",
       "       [30., 37.],\n",
       "       [ 2., 40.],\n",
       "       [37., 24.]])"
      ]
     },
     "execution_count": 8,
     "metadata": {},
     "output_type": "execute_result"
    }
   ],
   "source": [
    "X[:10, :]"
   ]
  },
  {
   "cell_type": "markdown",
   "metadata": {},
   "source": [
    "# 下面👇那个是把所有row的 第index=0 col取出来了\n",
    "# 就是取所有行的第一列"
   ]
  },
  {
   "cell_type": "code",
   "execution_count": 9,
   "metadata": {},
   "outputs": [],
   "source": [
    "X[:, 0] = (X[:,0] - np.min(X[:,0])) / (np.max(X[:, 0]) - np.min(X[:,0]))"
   ]
  },
  {
   "cell_type": "code",
   "execution_count": 11,
   "metadata": {},
   "outputs": [
    {
     "data": {
      "text/plain": [
       "array([0.85106383, 0.9787234 , 0.9787234 , 0.29787234, 0.89361702,\n",
       "       0.63829787, 0.95744681, 0.59574468, 0.        , 0.74468085])"
      ]
     },
     "execution_count": 11,
     "metadata": {},
     "output_type": "execute_result"
    }
   ],
   "source": [
    "X[:, 0][:10]"
   ]
  },
  {
   "cell_type": "markdown",
   "metadata": {},
   "source": [
    "# 取所有行的第二列"
   ]
  },
  {
   "cell_type": "code",
   "execution_count": 13,
   "metadata": {},
   "outputs": [],
   "source": [
    "X[:, 1] = (X[:,1] - np.min(X[:,1])) / (np.max(X[:, 1]) - np.min(X[:,1]))"
   ]
  },
  {
   "cell_type": "code",
   "execution_count": 14,
   "metadata": {},
   "outputs": [
    {
     "data": {
      "image/png": "[encoded data removed]",
      "text/plain": [
       "<Figure size 432x288 with 1 Axes>"
      ]
     },
     "metadata": {
      "needs_background": "light"
     },
     "output_type": "display_data"
    }
   ],
   "source": [
    "plt.scatter(X[:,0],X[:,1])\n",
    "plt.show()"
   ]
  },
  {
   "cell_type": "markdown",
   "metadata": {},
   "source": [
    "# 看一下均值和方差"
   ]
  },
  {
   "cell_type": "code",
   "execution_count": 16,
   "metadata": {},
   "outputs": [
    {
     "data": {
      "text/plain": [
       "0.4948936170212766"
      ]
     },
     "execution_count": 16,
     "metadata": {},
     "output_type": "execute_result"
    }
   ],
   "source": [
    "np.mean(X[:,0])"
   ]
  },
  {
   "cell_type": "code",
   "execution_count": 17,
   "metadata": {},
   "outputs": [
    {
     "data": {
      "text/plain": [
       "0.32238950542720385"
      ]
     },
     "execution_count": 17,
     "metadata": {},
     "output_type": "execute_result"
    }
   ],
   "source": [
    "np.std(X[:,0])"
   ]
  },
  {
   "cell_type": "markdown",
   "metadata": {},
   "source": [
    "# 均值方差归一化 standarization"
   ]
  },
  {
   "cell_type": "code",
   "execution_count": 20,
   "metadata": {},
   "outputs": [],
   "source": [
    "x2 = np.random.randint(0, 50, (50, 2))"
   ]
  },
  {
   "cell_type": "code",
   "execution_count": 21,
   "metadata": {},
   "outputs": [],
   "source": [
    "x2 = np.array(x2, dtype=float)"
   ]
  },
  {
   "cell_type": "code",
   "execution_count": 22,
   "metadata": {},
   "outputs": [],
   "source": [
    "x2[:, 0] = (x2[:,0] - np.mean(x2[:,0])) / np.std(x2[:, 0])"
   ]
  },
  {
   "cell_type": "code",
   "execution_count": 23,
   "metadata": {},
   "outputs": [],
   "source": [
    "x2[:, 1] = (x2[:,1] - np.mean(x2[:,1])) / np.std(x2[:, 1])"
   ]
  },
  {
   "cell_type": "code",
   "execution_count": 24,
   "metadata": {},
   "outputs": [
    {
     "data": {
      "image/png": "[encoded data removed]",
      "text/plain": [
       "<Figure size 432x288 with 1 Axes>"
      ]
     },
     "metadata": {
      "needs_background": "light"
     },
     "output_type": "display_data"
    }
   ],
   "source": [
    "plt.scatter(x2[:,0],x2[:,1])\n",
    "plt.show()"
   ]
  },
  {
   "cell_type": "code",
   "execution_count": 25,
   "metadata": {},
   "outputs": [
    {
     "data": {
      "text/plain": [
       "2.6645352591003756e-17"
      ]
     },
     "execution_count": 25,
     "metadata": {},
     "output_type": "execute_result"
    }
   ],
   "source": [
    "np.mean(x2[:, 0])"
   ]
  },
  {
   "cell_type": "code",
   "execution_count": 26,
   "metadata": {},
   "outputs": [
    {
     "data": {
      "text/plain": [
       "0.9999999999999998"
      ]
     },
     "execution_count": 26,
     "metadata": {},
     "output_type": "execute_result"
    }
   ],
   "source": [
    "np.std(x2[:,0])"
   ]
  },
  {
   "cell_type": "code",
   "execution_count": null,
   "metadata": {},
   "outputs": [],
   "source": []
  }
 ],
 "metadata": {
  "kernelspec": {
   "display_name": "Python 3",
   "language": "python",
   "name": "python3"
  },
  "language_info": {
   "codemirror_mode": {
    "name": "ipython",
    "version": 3
   },
   "file_extension": ".py",
   "mimetype": "text/x-python",
   "name": "python",
   "nbconvert_exporter": "python",
   "pygments_lexer": "ipython3",
   "version": "3.7.3"
  }
 },
 "nbformat": 4,
 "nbformat_minor": 2
}
